{
 "cells": [
  {
   "cell_type": "markdown",
   "metadata": {
    "colab_type": "text",
    "id": "ohl5IEbvncpr"
   },
   "source": [
    "# **Kegiatan Modul 5**"
   ]
  },
  {
   "cell_type": "markdown",
   "metadata": {
    "colab_type": "text",
    "id": "T3JnESqg8zk2"
   },
   "source": [
    "## **Customer Segmentation with K-Means**\n",
    "\n",
    "Bayangkan Anda memiliki dataset pelanggan, dan Anda perlu menerapkan segmentasi pelanggan pada data historis ini.\n",
    "Segmentasi pelanggan adalah praktik mempartisi basis pelanggan menjadi kelompok-kelompok individu yang memiliki karakteristik serupa. Ini adalah strategi yang signifikan karena bisnis dapat menargetkan kelompok pelanggan tertentu ini dan secara efektif mengalokasikan sumber daya pemasaran. Misalnya, satu grup mungkin berisi pelanggan yang untung tinggi dan berisiko rendah, yaitu, lebih mungkin membeli produk, atau berlangganan layanan. Tugas bisnis adalah mempertahankan pelanggan tersebut. Grup lain mungkin termasuk pelanggan dari organisasi nirlaba. Dan seterusnya."
   ]
  },
  {
   "cell_type": "code",
   "execution_count": 1,
   "metadata": {
    "colab": {
     "base_uri": "https://localhost:8080/",
     "height": 204
    },
    "colab_type": "code",
    "executionInfo": {
     "elapsed": 8057,
     "status": "ok",
     "timestamp": 1581626657513,
     "user": {
      "displayName": "Moch. Chamdani Mustaqim",
      "photoUrl": "https://lh3.googleusercontent.com/-33nbQYx-djs/AAAAAAAAAAI/AAAAAAAACx4/SN7K3gZtORs/s64/photo.jpg",
      "userId": "12782341176521372008"
     },
     "user_tz": -420
    },
    "id": "S0H3mwSe2QF7",
    "outputId": "fce03f73-e821-44ff-bfa6-91c37593ecc1"
   },
   "outputs": [
    {
     "name": "stdout",
     "output_type": "stream",
     "text": [
      "--2020-02-14 03:44:11--  https://s3-api.us-geo.objectstorage.softlayer.net/cf-courses-data/CognitiveClass/ML0101ENv3/labs/Cust_Segmentation.csv\n",
      "Resolving s3-api.us-geo.objectstorage.softlayer.net (s3-api.us-geo.objectstorage.softlayer.net)... 67.228.254.196\n",
      "Connecting to s3-api.us-geo.objectstorage.softlayer.net (s3-api.us-geo.objectstorage.softlayer.net)|67.228.254.196|:443... connected.\n",
      "HTTP request sent, awaiting response... 200 OK\n",
      "Length: 34276 (33K) [text/csv]\n",
      "Saving to: ‘Cust_Segmentation.csv’\n",
      "\n",
      "Cust_Segmentation.c 100%[===================>]  33.47K  --.-KB/s    in 0.01s   \n",
      "\n",
      "2020-02-14 03:44:16 (2.72 MB/s) - ‘Cust_Segmentation.csv’ saved [34276/34276]\n",
      "\n"
     ]
    }
   ],
   "source": [
    "!wget -O Cust_Segmentation.csv https://s3-api.us-geo.objectstorage.softlayer.net/cf-courses-data/CognitiveClass/ML0101ENv3/labs/Cust_Segmentation.csv"
   ]
  },
  {
   "cell_type": "markdown",
   "metadata": {
    "colab_type": "text",
    "id": "aod0oUOG881d"
   },
   "source": [
    "## **Load Data From CSV File**\n",
    "\n",
    "Sebelum Anda dapat bekerja dengan data, Anda harus menggunakan URL untuk mendapatkan Cust_Segmentation.csv. **5 poin**"
   ]
  },
  {
   "cell_type": "markdown",
   "metadata": {
    "colab_type": "text",
    "id": "dqh8ji8nTlwl"
   },
   "source": [
    "```\n",
    "# Output\n",
    "```\n",
    "<img src = \"https://i.ibb.co/dJtsP6g/1.png\" align = \"center\">"
   ]
  },
  {
   "cell_type": "code",
   "execution_count": 0,
   "metadata": {
    "colab": {},
    "colab_type": "code",
    "id": "1V9qNK-19FnA"
   },
   "outputs": [],
   "source": [
    "# TULIS CODE ANDA DISINI"
   ]
  },
  {
   "cell_type": "markdown",
   "metadata": {
    "colab_type": "text",
    "id": "vbUNmMQY9LOC"
   },
   "source": [
    "## **Pre-processing**"
   ]
  },
  {
   "cell_type": "markdown",
   "metadata": {
    "colab_type": "text",
    "id": "8_0_Dism9KFj"
   },
   "source": [
    "Seperti yang Anda lihat, __Address__ dalam dataset ini adalah variabel kategorikal. Algoritma k-means tidak secara langsung berlaku untuk variabel kategori karena fungsi jarak Euclidean tidak benar-benar bermakna untuk variabel diskrit. Jadi, mari jatuhkan fitur ini dan jalankan pengelompokan. **10 poin**"
   ]
  },
  {
   "cell_type": "markdown",
   "metadata": {
    "colab_type": "text",
    "id": "L63tLTYCUQpf"
   },
   "source": [
    "```\n",
    "# Output\n",
    "```\n",
    "<img src = \"https://i.ibb.co/X7yGzKX/2.png\" align = \"center\">\n"
   ]
  },
  {
   "cell_type": "code",
   "execution_count": 0,
   "metadata": {
    "colab": {},
    "colab_type": "code",
    "id": "aPoX6whM86dj"
   },
   "outputs": [],
   "source": [
    "# TULIS CODE ANDA DISINI"
   ]
  },
  {
   "cell_type": "markdown",
   "metadata": {
    "colab_type": "text",
    "id": "m9VcifdR9R1k"
   },
   "source": [
    "## **Normalizing over the standard deviation**\n",
    "\n",
    "Sekarang mari kita normalkan dataset. Tapi mengapa kita perlu normalisasi? Normalisasi adalah metode statistik yang membantu algoritma berbasis matematika untuk menafsirkan fitur dengan besaran dan distribusi yang berbeda secara merata. Kami menggunakan __tandardScaler()__ untuk menormalkan dataset kami. **10 poin**\n"
   ]
  },
  {
   "cell_type": "markdown",
   "metadata": {
    "colab_type": "text",
    "id": "ImVSOvKrRDdT"
   },
   "source": [
    "\n",
    "\n",
    "```\n",
    "# Output\n",
    "\n",
    "array([[ 0.74291541,  0.31212243, -0.37878978, ..., -0.59048916,\n",
    "        -0.52379654, -0.57652509],\n",
    "       [ 1.48949049, -0.76634938,  2.5737211 , ...,  1.51296181,\n",
    "        -0.52379654,  0.39138677],\n",
    "       [-0.25251804,  0.31212243,  0.2117124 , ...,  0.80170393,\n",
    "         1.90913822,  1.59755385],\n",
    "       ...,\n",
    "       [-1.24795149,  2.46906604, -1.26454304, ...,  0.03863257,\n",
    "         1.90913822,  3.45892281],\n",
    "       [-0.37694723, -0.76634938,  0.50696349, ..., -0.70147601,\n",
    "        -0.52379654, -1.08281745],\n",
    "       [ 2.1116364 , -0.76634938,  1.09746566, ...,  0.16463355,\n",
    "        -0.52379654, -0.2340332 ]])\n",
    "        \n",
    "```\n",
    "\n"
   ]
  },
  {
   "cell_type": "code",
   "execution_count": 0,
   "metadata": {
    "colab": {},
    "colab_type": "code",
    "id": "Iyn-9tlr9PF6"
   },
   "outputs": [],
   "source": [
    "# TULIS CODE ANDA DISINI"
   ]
  },
  {
   "cell_type": "markdown",
   "metadata": {
    "colab_type": "text",
    "id": "zGxmnusZ9kBd"
   },
   "source": [
    "## **Modeling**"
   ]
  },
  {
   "cell_type": "markdown",
   "metadata": {
    "colab_type": "text",
    "id": "idPY48Zh9hsF"
   },
   "source": [
    "Dalam contoh kami (jika kami tidak memiliki akses ke algoritma k-means), itu akan sama dengan menebak bahwa setiap kelompok pelanggan akan memiliki usia, pendapatan, pendidikan, dll tertentu, dengan beberapa tes dan eksperimen. Namun, dengan menggunakan K-means clustering, kita dapat melakukan semua proses ini dengan lebih mudah.\n",
    "\n",
    "Mari kita terapkan k-means pada dataset kami, dan lihat label klaster. **20 poin**"
   ]
  },
  {
   "cell_type": "markdown",
   "metadata": {
    "colab_type": "text",
    "id": "PwXYd3M4RUg4"
   },
   "source": [
    "\n",
    "\n",
    "```\n",
    "# Contoh Output\n",
    "\n",
    "[2 0 2 2 1 0 2 0 2 0 0 2 2 2 2 2 2 2 0 2 2 2 2 0 0 0 2 2 0 2 0 2 2 2 2 2 2\n",
    " 2 2 0 2 0 2 1 2 0 2 2 2 0 0 2 2 0 0 2 2 2 0 2 0 2 0 0 2 2 0 2 2 2 0 0 0 2\n",
    " 2 2 2 2 0 2 0 0 1 2 2 2 2 2 2 2 0 2 2 2 2 2 2 2 2 2 2 0 0 2 2 2 2 2 2 0 2\n",
    " 2 2 2 2 2 2 2 0 2 2 2 2 2 2 0 2 2 2 2 2 0 2 2 2 2 0 2 2 2 2 2 2 2 0 2 0 2\n",
    " 2 2 2 2 2 2 0 2 0 0 2 0 2 2 0 2 2 2 2 2 2 2 0 2 2 2 2 2 2 2 2 0 2 2 2 0 2\n",
    " 2 2 2 2 0 2 2 0 2 0 2 2 0 1 2 0 2 2 2 2 2 2 1 0 2 2 2 2 0 2 2 0 0 2 0 2 0\n",
    " 2 2 2 2 0 2 2 2 2 2 2 2 0 2 2 2 2 2 2 2 2 2 2 1 0 2 2 2 2 2 2 2 0 2 2 2 2\n",
    " 2 2 0 2 2 0 2 2 0 2 2 2 2 2 2 2 2 2 2 2 2 2 0 0 2 0 2 0 2 0 0 2 2 2 2 2 2\n",
    " 2 2 2 0 0 0 2 2 2 0 2 2 2 2 2 2 2 2 2 2 2 2 2 2 0 2 0 2 2 2 2 2 0 2 0 0 2\n",
    " 2 2 2 2 0 2 2 2 2 2 2 0 2 2 0 2 2 0 2 2 2 2 2 0 2 2 2 1 2 2 2 0 2 0 0 0 2\n",
    " 2 2 0 2 2 2 2 2 2 2 2 2 2 2 0 2 0 2 2 2 2 2 2 2 2 2 2 0 2 2 2 2 2 2 2 2 2\n",
    " 2 0 2 2 0 2 2 2 2 0 2 2 2 2 0 2 2 0 2 2 2 2 2 2 2 2 2 0 2 2 2 0 2 2 2 2 1\n",
    " 2 2 2 2 2 2 0 2 2 2 1 2 2 2 2 0 2 1 2 2 2 2 0 2 0 0 0 2 2 0 0 2 2 2 2 2 2\n",
    " 2 0 2 2 2 2 0 2 2 2 0 2 0 2 2 2 0 2 2 2 2 0 0 2 2 2 2 0 2 2 2 2 0 2 2 2 2\n",
    " 2 0 0 2 2 2 2 2 2 2 2 2 2 2 1 0 2 2 2 2 2 2 0 2 2 2 2 0 2 2 0 2 2 1 2 1 2\n",
    " 2 1 2 2 2 2 2 2 2 2 2 0 2 0 2 2 1 2 2 2 2 2 2 2 2 0 2 2 2 2 2 2 2 2 0 2 0\n",
    " 2 2 2 2 2 2 0 2 2 2 2 0 2 0 2 2 2 2 2 2 2 2 2 2 2 2 2 2 0 2 2 2 2 2 2 2 0\n",
    " 0 2 2 0 2 0 2 2 0 2 0 2 2 1 2 0 2 0 2 2 2 2 2 0 0 2 2 2 2 0 2 2 2 0 0 2 2\n",
    " 0 2 2 2 0 2 1 2 2 0 2 2 2 2 2 2 2 0 2 2 2 0 2 2 2 2 2 0 2 2 0 2 2 2 2 2 2\n",
    " 2 2 0 2 2 0 2 0 2 0 0 2 2 2 0 2 0 2 2 2 2 2 0 2 2 2 2 0 0 2 2 0 0 2 2 2 2\n",
    " 2 0 2 2 2 2 0 2 2 2 2 2 2 2 2 2 2 2 0 2 0 0 2 0 2 0 0 2 2 0 2 2 2 2 2 0 0\n",
    " 2 2 2 2 2 2 2 0 2 2 2 2 2 2 1 0 0 2 2 2 2 2 2 2 0 2 2 2 2 2 2 0 2 2 2 2 2\n",
    " 2 2 2 2 2 2 2 2 2 2 2 0 2 2 2 2 2 2 2 2 2 2 2 2 2 2 2 0 2 2 2 2 2 2 2 0]\n",
    "```\n",
    "\n"
   ]
  },
  {
   "cell_type": "code",
   "execution_count": 0,
   "metadata": {
    "colab": {},
    "colab_type": "code",
    "id": "2cufSYqa9oz2"
   },
   "outputs": [],
   "source": [
    "# TULIS CODE ANDA DISINI"
   ]
  },
  {
   "cell_type": "markdown",
   "metadata": {
    "colab_type": "text",
    "id": "xE5aDjL1-3yX"
   },
   "source": [
    "## **Insights**\n",
    "\n",
    "Tetapkan label klaster untuk setiap baris dalam bingkai data. **5 poin**"
   ]
  },
  {
   "cell_type": "markdown",
   "metadata": {
    "colab_type": "text",
    "id": "QKE8cr74Rb16"
   },
   "source": [
    "```\n",
    "# Output\n",
    "```\n",
    "<img src = \"https://i.ibb.co/7gbF6TS/3.png\" align = \"center\">"
   ]
  },
  {
   "cell_type": "code",
   "execution_count": 0,
   "metadata": {
    "colab": {},
    "colab_type": "code",
    "id": "4qgirW1A9d8C"
   },
   "outputs": [],
   "source": [
    "# TULIS CODE ANDA DISINI"
   ]
  },
  {
   "cell_type": "markdown",
   "metadata": {
    "colab_type": "text",
    "id": "AcFwid99-_iF"
   },
   "source": [
    "Kita dapat dengan mudah memeriksa nilai centroid dengan rata-rata fitur di setiap kluster. **5 poin**"
   ]
  },
  {
   "cell_type": "markdown",
   "metadata": {
    "colab_type": "text",
    "id": "1vzyYz1SUjZn"
   },
   "source": [
    "```\n",
    "# Output\n",
    "```\n",
    "<img src = \"https://i.ibb.co/QdhLVSX/4.png\" align = \"center\">"
   ]
  },
  {
   "cell_type": "code",
   "execution_count": 0,
   "metadata": {
    "colab": {},
    "colab_type": "code",
    "id": "SMfFeNHL-8tE"
   },
   "outputs": [],
   "source": [
    "# TULIS CODE ANDA DISINI"
   ]
  },
  {
   "cell_type": "markdown",
   "metadata": {
    "colab_type": "text",
    "id": "N_HshuXw_GJr"
   },
   "source": [
    "Sekarang, mari kita lihat distribusi pelanggan berdasarkan usia dan pendapatan mereka: **15 poin**"
   ]
  },
  {
   "cell_type": "markdown",
   "metadata": {
    "colab_type": "text",
    "id": "Q4wXbmH5UnAr"
   },
   "source": [
    "```\n",
    "# Output\n",
    "```\n",
    "<img src = \"https://i.ibb.co/dPhLWM2/5.png\" align = \"center\">"
   ]
  },
  {
   "cell_type": "code",
   "execution_count": 0,
   "metadata": {
    "colab": {},
    "colab_type": "code",
    "id": "BRscrccJ_B55"
   },
   "outputs": [],
   "source": [
    "# TULIS CODE ANDA DISINI"
   ]
  },
  {
   "cell_type": "markdown",
   "metadata": {
    "colab_type": "text",
    "id": "GEyB6PAd033N"
   },
   "source": [
    "Sekarang, buat plot dengan 3 parameter education, age dan income: **15 poin**"
   ]
  },
  {
   "cell_type": "markdown",
   "metadata": {
    "colab_type": "text",
    "id": "9h6CGokSUqTM"
   },
   "source": [
    "```\n",
    "# Output\n",
    "```\n",
    "<img src = \"https://i.ibb.co/kcx2LFp/6.png\" align = \"center\">"
   ]
  },
  {
   "cell_type": "code",
   "execution_count": 0,
   "metadata": {
    "colab": {},
    "colab_type": "code",
    "id": "zEVLb6JW_ImS"
   },
   "outputs": [],
   "source": [
    "# TULIS CODE ANDA DISINI"
   ]
  },
  {
   "cell_type": "markdown",
   "metadata": {
    "colab_type": "text",
    "id": "gAJpEqg-1Z4z"
   },
   "source": [
    "Jelaskan kesimpulan dari hasil yang anda dapatkan dari kegiatan terkait segmentasi pelanggan diatas kepada asisten **20 poin**"
   ]
  }
 ],
 "metadata": {
  "colab": {
   "authorship_tag": "ABX9TyP1RcVDEPdhXyhoALGxtMhq",
   "collapsed_sections": [],
   "name": "Kegiatan Modul 5.ipynb",
   "provenance": []
  },
  "kernelspec": {
   "display_name": "Python 3",
   "language": "python",
   "name": "python3"
  },
  "language_info": {
   "codemirror_mode": {
    "name": "ipython",
    "version": 3
   },
   "file_extension": ".py",
   "mimetype": "text/x-python",
   "name": "python",
   "nbconvert_exporter": "python",
   "pygments_lexer": "ipython3",
   "version": "3.7.3"
  }
 },
 "nbformat": 4,
 "nbformat_minor": 1
}
