{
 "cells": [
  {
   "cell_type": "markdown",
   "metadata": {
    "colab_type": "text",
    "id": "ohl5IEbvncpr"
   },
   "source": [
    "# **Modul 5 Data Mining 2020 \"k-Means\"**"
   ]
  },
  {
   "cell_type": "markdown",
   "metadata": {
    "colab_type": "text",
    "id": "f-O4nzNYpmoJ"
   },
   "source": [
    "## **Introduction**\n",
    "\n",
    "K-Means Clustering adalah algoritma pembelajaran mesin tanpa pengawasan. Berbeda dengan algoritma pembelajaran mesin yang diawasi tradisional, K-Means berupaya untuk mengklasifikasikan data tanpa terlebih dahulu dilatih dengan data berlabel.\n",
    "\n",
    "Beberapa aplikasi dunia nyata dari k-means:\n",
    "- Segmentasi pelanggan\n",
    "- Memahami apa yang ingin dicapai oleh pengunjung situs web\n",
    "- Pengenalan pola\n",
    "- Pembelajaran mesin\n",
    "- Kompresi data"
   ]
  },
  {
   "cell_type": "markdown",
   "metadata": {
    "colab_type": "text",
    "id": "VKy_Z_WIkq24"
   },
   "source": [
    "## **How It Works**\n",
    "\n",
    "1.   Pilih titik acak K (yaitu 2) sebagai pusat cluster yang disebut centroid\n",
    "![alt text](https://miro.medium.com/max/1610/1*EW-5MNBE3mxHS90KIBEAtQ.png)\n",
    "\n",
    "2.   Tetapkan setiap titik data ke kluster terdekat dengan menghitung jaraknya terhadap setiap centroid\n",
    "![alt text](https://miro.medium.com/max/1590/1*6jruJmmnxtSOj4cuwv91Hg.png)\n",
    "\n",
    "3.  Tentukan pusat cluster baru dengan menghitung rata-rata poin yang ditugaskan\n",
    "![alt text](https://miro.medium.com/max/1584/1*blMy7iRv9R2ceDD2XILjbQ.png)\n",
    "\n",
    "4.  Ulangi langkah 2 dan 3 sampai tidak ada tugas cluster yang berubah\n",
    "![alt text](https://miro.medium.com/max/1632/1*GVQnG8FnP4L6jbHsO3oWOQ.png)\n",
    "\n"
   ]
  },
  {
   "cell_type": "markdown",
   "metadata": {
    "colab_type": "text",
    "id": "B9h-0dArlNO2"
   },
   "source": [
    "## **Choosing The Right Number of Clusters**\n",
    "\n",
    "Meskipun k-means bekerja dengan baik pada dataset mainan ini, penting untuk menegaskan kembali bahwa kelemahan k-means adalah bahwa kita harus menentukan jumlah cluster, k, sebelum kita tahu apa k optimal. Jumlah cluster untuk memilih mungkin tidak selalu begitu jelas dalam aplikasi dunia nyata, terutama jika kita bekerja dengan dataset dimensi yang lebih tinggi yang tidak dapat divisualisasikan.\n",
    "\n",
    "Metode siku adalah alat grafis yang berguna untuk memperkirakan jumlah optimal k untuk tugas yang diberikan. Secara intuitif, kita dapat mengatakan bahwa, jika k meningkat, SSE dalam-kluster (\"distorsi\") akan berkurang. Ini karena sampel akan lebih dekat ke centroid tempat mereka ditugaskan.\n",
    "Gagasan di balik metode siku adalah untuk mengidentifikasi nilai k di mana distorsi mulai berkurang paling cepat, yang akan menjadi lebih jelas jika kita merencanakan distorsi untuk nilai k yang berbeda:\n",
    "\n",
    "![alt text](https://miro.medium.com/max/677/1*Q9OzABjrHuY1uFIcEe8tlg.png)\n",
    "\n",
    "Seperti yang dapat kita lihat dalam plot yang dihasilkan, siku terletak di k = 3, yang merupakan bukti bahwa k = 3 memang pilihan yang baik untuk dataset ini."
   ]
  },
  {
   "cell_type": "markdown",
   "metadata": {
    "colab_type": "text",
    "id": "hWp-eoqKlZWE"
   },
   "source": [
    "## **K-Means Clustering using Scikit-Learn**"
   ]
  },
  {
   "cell_type": "code",
   "execution_count": 0,
   "metadata": {
    "colab": {},
    "colab_type": "code",
    "id": "vguM8jATlc6D"
   },
   "outputs": [],
   "source": [
    "import numpy as np\n",
    "import pandas as pd\n",
    "from matplotlib import pyplot as plt\n",
    "from sklearn.datasets.samples_generator import make_blobs\n",
    "from sklearn.cluster import KMeans\n",
    "import random \n",
    "%matplotlib inline"
   ]
  },
  {
   "cell_type": "markdown",
   "metadata": {
    "colab_type": "text",
    "id": "_BNFZd71lgbq"
   },
   "source": [
    "Dalam tutorial ini, kita akan menghasilkan data kita sendiri menggunakan fungsi make_blobs dari modul sklearn.datasets. Parameter pusat menentukan jumlah cluster."
   ]
  },
  {
   "cell_type": "code",
   "execution_count": 2,
   "metadata": {
    "colab": {
     "base_uri": "https://localhost:8080/",
     "height": 282
    },
    "colab_type": "code",
    "executionInfo": {
     "elapsed": 2008,
     "status": "ok",
     "timestamp": 1581514144796,
     "user": {
      "displayName": "Moch. Chamdani Mustaqim",
      "photoUrl": "https://lh3.googleusercontent.com/-33nbQYx-djs/AAAAAAAAAAI/AAAAAAAACx4/SN7K3gZtORs/s64/photo.jpg",
      "userId": "12782341176521372008"
     },
     "user_tz": -420
    },
    "id": "_yAl0IdDlq4m",
    "outputId": "155412ee-63f0-4aef-f9ab-9e406559d51e"
   },
   "outputs": [
    {
     "data": {
      "text/plain": [
       "<matplotlib.collections.PathCollection at 0x7feba0b0e3c8>"
      ]
     },
     "execution_count": 2,
     "metadata": {
      "tags": []
     },
     "output_type": "execute_result"
    },
    {
     "data": {
      "image/png": "[encoded data removed]",
      "text/plain": [
       "<Figure size 432x288 with 1 Axes>"
      ]
     },
     "metadata": {
      "tags": []
     },
     "output_type": "display_data"
    }
   ],
   "source": [
    "X, y = make_blobs(n_samples=300, centers=4, cluster_std=0.60, random_state=0)\n",
    "plt.scatter(X[:,0], X[:,1])"
   ]
  },
  {
   "cell_type": "markdown",
   "metadata": {
    "colab_type": "text",
    "id": "qwq-pJ9umE7x"
   },
   "source": [
    "Untuk mendapatkan nilai yang digunakan dalam grafik, kami melatih beberapa model menggunakan jumlah cluster yang berbeda dan menyimpan nilai properti *intertia_* (WCSS=Within Cluster Sum of Square) setiap kali."
   ]
  },
  {
   "cell_type": "code",
   "execution_count": 5,
   "metadata": {
    "colab": {
     "base_uri": "https://localhost:8080/",
     "height": 295
    },
    "colab_type": "code",
    "executionInfo": {
     "elapsed": 1254,
     "status": "ok",
     "timestamp": 1581514296387,
     "user": {
      "displayName": "Moch. Chamdani Mustaqim",
      "photoUrl": "https://lh3.googleusercontent.com/-33nbQYx-djs/AAAAAAAAAAI/AAAAAAAACx4/SN7K3gZtORs/s64/photo.jpg",
      "userId": "12782341176521372008"
     },
     "user_tz": -420
    },
    "id": "o0C6qoonmLqx",
    "outputId": "6c3b3d14-3887-40ea-9dd3-9dd369d4f663"
   },
   "outputs": [
    {
     "data": {
      "image/png": "[encoded data removed]",
      "text/plain": [
       "<Figure size 432x288 with 1 Axes>"
      ]
     },
     "metadata": {
      "tags": []
     },
     "output_type": "display_data"
    }
   ],
   "source": [
    "wcss = []\n",
    "for i in range(1, 11):\n",
    "    #kmeans = KMeans(n_clusters=i, init='k-means++', max_iter=300, n_init=10, random_state=0)\n",
    "    #for the sake of simplicity, you can just specify the number of cluster\n",
    "    kmeans = KMeans(n_clusters=i)\n",
    "    kmeans.fit(X)\n",
    "    wcss.append(kmeans.inertia_)\n",
    "plt.plot(range(1, 11), wcss)\n",
    "plt.title('Elbow Method')\n",
    "plt.xlabel('Number of clusters')\n",
    "plt.ylabel('WCSS')\n",
    "plt.show()"
   ]
  },
  {
   "cell_type": "markdown",
   "metadata": {
    "colab_type": "text",
    "id": "1vWL26ItmVuA"
   },
   "source": [
    "Selanjutnya, kami mengelompokkan data menggunakan jumlah cluster optimal (4) yang kami tentukan pada langkah terakhir. k-means ++ memastikan bahwa kami tidak jatuh ke dalam perangkap inisialisasi acak."
   ]
  },
  {
   "cell_type": "code",
   "execution_count": 6,
   "metadata": {
    "colab": {
     "base_uri": "https://localhost:8080/",
     "height": 265
    },
    "colab_type": "code",
    "executionInfo": {
     "elapsed": 918,
     "status": "ok",
     "timestamp": 1581514332158,
     "user": {
      "displayName": "Moch. Chamdani Mustaqim",
      "photoUrl": "https://lh3.googleusercontent.com/-33nbQYx-djs/AAAAAAAAAAI/AAAAAAAACx4/SN7K3gZtORs/s64/photo.jpg",
      "userId": "12782341176521372008"
     },
     "user_tz": -420
    },
    "id": "bgmgdV-GmXYQ",
    "outputId": "3a0e667c-b044-4d0a-f132-1b7fa4848a00"
   },
   "outputs": [
    {
     "data": {
      "image/png": "[encoded data removed]",
      "text/plain": [
       "<Figure size 432x288 with 1 Axes>"
      ]
     },
     "metadata": {
      "tags": []
     },
     "output_type": "display_data"
    }
   ],
   "source": [
    "#kmeans = KMeans(n_clusters=4, init='k-means++', max_iter=300, n_init=10, random_state=0)\n",
    "#for the sake of simplicity, you can just specify the number of cluster\n",
    "kmeans = KMeans(n_clusters=4)\n",
    "pred_y = kmeans.fit_predict(X)\n",
    "plt.scatter(X[:,0], X[:,1])\n",
    "plt.scatter(kmeans.cluster_centers_[:, 0], kmeans.cluster_centers_[:, 1], s=300, c='red')\n",
    "plt.show()"
   ]
  }
 ],
 "metadata": {
  "colab": {
   "authorship_tag": "ABX9TyPAa6myxXI5xjETgyprrMAX",
   "collapsed_sections": [],
   "name": "Modul 5 Data Mining 2020 \"k-Means\".ipynb",
   "provenance": []
  },
  "kernelspec": {
   "display_name": "Python 3",
   "language": "python",
   "name": "python3"
  },
  "language_info": {
   "codemirror_mode": {
    "name": "ipython",
    "version": 3
   },
   "file_extension": ".py",
   "mimetype": "text/x-python",
   "name": "python",
   "nbconvert_exporter": "python",
   "pygments_lexer": "ipython3",
   "version": "3.7.3"
  }
 },
 "nbformat": 4,
 "nbformat_minor": 1
}
